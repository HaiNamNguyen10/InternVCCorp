{
 "cells": [
  {
   "cell_type": "code",
   "execution_count": 1,
   "metadata": {},
   "outputs": [
    {
     "name": "stdout",
     "output_type": "stream",
     "text": [
      "+----+----------------+\n",
      "|view|number_of_people|\n",
      "+----+----------------+\n",
      "|   0|            3675|\n",
      "|   1|           51437|\n",
      "|   2|           30536|\n",
      "|   3|           13442|\n",
      "|   4|           12538|\n",
      "|   5|            9648|\n",
      "|   6|            5912|\n",
      "|   7|            5511|\n",
      "|   8|            4359|\n",
      "|   9|            3045|\n",
      "|  10|            2860|\n",
      "|  11|            2200|\n",
      "|  12|            1285|\n",
      "|  13|            1026|\n",
      "|  14|             868|\n",
      "|  15|             627|\n",
      "|  16|             553|\n",
      "|  17|             460|\n",
      "|  18|             350|\n",
      "|  19|             344|\n",
      "+----+----------------+\n",
      "only showing top 20 rows\n",
      "\n"
     ]
    }
   ],
   "source": [
    "from pyspark.sql import SparkSession\n",
    "from pyspark.sql.functions import col\n",
    "import random\n",
    "\n",
    "spark = SparkSession.builder.appName(\"Histogram\").getOrCreate()\n",
    "\n",
    "\n",
    "num_view = [0, 1, 2, 3, 4, 5, 6, 7, 8, 9, 10, 11, 12, 13, 14, 15, 16, 17, 18, 19, 20, 21, 22, 23, 24, 25, 26, 27, 28, 29, 30, 31, 32, 33, 34, 35, 36, 37, 38, 39, 40, 41, 42, 43, 44, 45, 46, 47, 48, 49]\n",
    "people = [3675, 51437, 30536, 13442, 12538, 9648, 5912, 5511, 4359, 3045, 2860, 2200, 1285, 1026, 868, 627, 553, 460, 350, 344, 301, 274, 257, 224, 176, 137, 136, 149, 123, 111, 100, 97, 68, 63, 74, 58, 54, 57, 54, 48, 40, 45, 35, 30, 29, 23, 22, 23, 23, 22]\n",
    "\n",
    "\n",
    "data = [(num_view[i], people[i]) for i in range(50)]\n",
    "columns = [\"view\", \"number_of_people\"]\n",
    "df = spark.createDataFrame(data, columns)\n",
    "\n",
    "df.show()\n",
    "\n"
   ]
  },
  {
   "cell_type": "code",
   "execution_count": 47,
   "metadata": {},
   "outputs": [],
   "source": [
    "import matplotlib.pyplot as plt\n",
    "import pandas as pd\n",
    "df = pd.read_csv(\"./namhh.csv\")\n"
   ]
  },
  {
   "cell_type": "code",
   "execution_count": 53,
   "metadata": {},
   "outputs": [
    {
     "name": "stdout",
     "output_type": "stream",
     "text": [
      "int64\n",
      "count    154402.000000\n",
      "mean         12.758144\n",
      "std         228.490433\n",
      "min           0.000000\n",
      "25%           1.000000\n",
      "50%           2.000000\n",
      "75%           5.000000\n",
      "max       13352.000000\n",
      "Name: 1, dtype: float64\n",
      "1    55117\n",
      "dtype: int64\n"
     ]
    }
   ],
   "source": [
    "print(df['1'].dtype)\n",
    "print(df['1'].describe())\n",
    "print(df[df['1'] <= 1].count())\n",
    "  # Ví dụ, kiểm tra giá trị lớn hơn 100\n",
    "\n"
   ]
  },
  {
   "cell_type": "code",
   "execution_count": 34,
   "metadata": {},
   "outputs": [],
   "source": [
    "import seaborn as sns\n",
    "sns.set()"
   ]
  },
  {
   "cell_type": "code",
   "execution_count": 57,
   "metadata": {},
   "outputs": [
    {
     "data": {
      "text/plain": [
       "<function matplotlib.pyplot.show(close=None, block=None)>"
      ]
     },
     "execution_count": 57,
     "metadata": {},
     "output_type": "execute_result"
    },
    {
     "data": {
      "image/png": "[encoded data removed]",
      "text/plain": [
       "<Figure size 640x480 with 1 Axes>"
      ]
     },
     "metadata": {},
     "output_type": "display_data"
    }
   ],
   "source": [
    "bin_edges = [0,1,2,3,4,5,6,7,8,9,10, 11, 12,13,14,15,16]\n",
    "n, bin, patches = plt.hist(df['1'], bins=bin_edges, align='mid')\n",
    "plt.xlabel('view')\n",
    "plt.ylabel('people')\n",
    "plt.show"
   ]
  }
 ],
 "metadata": {
  "kernelspec": {
   "display_name": "Python 3",
   "language": "python",
   "name": "python3"
  },
  "language_info": {
   "codemirror_mode": {
    "name": "ipython",
    "version": 3
   },
   "file_extension": ".py",
   "mimetype": "text/x-python",
   "name": "python",
   "nbconvert_exporter": "python",
   "pygments_lexer": "ipython3",
   "version": "3.10.11"
  }
 },
 "nbformat": 4,
 "nbformat_minor": 2
}
